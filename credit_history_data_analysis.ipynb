{
 "cells": [
  {
   "cell_type": "markdown",
   "source": [
    "importing"
   ],
   "metadata": {
    "collapsed": false
   }
  },
  {
   "cell_type": "code",
   "execution_count": null,
   "metadata": {
    "collapsed": true
   },
   "outputs": [],
   "source": [
    "import pandas as pd\n",
    "import matplotlib.pyplot as plt\n",
    "import seaborn as sns\n",
    "from sklearn.preprocessing import StandardScaler\n",
    "from sklearn.feature_selection import VarianceThreshold\n",
    "from sklearn.model_selection import train_test_split\n",
    "from scipy.stats import kurtosis, skew\n",
    "from sklearn.ensemble import RandomForestClassifier\n",
    "from sklearn.metrics import confusion_matrix, f1_score"
   ]
  },
  {
   "cell_type": "markdown",
   "source": [
    "Reading data"
   ],
   "metadata": {
    "collapsed": false
   }
  },
  {
   "cell_type": "code",
   "execution_count": null,
   "outputs": [],
   "source": [
    "data = pd.read_csv(r\"C:\\Users\\dimas\\OneDrive\\Studying Data\\archive\\credit_risk_dataset.csv\")\n",
    "data0 = data"
   ],
   "metadata": {
    "collapsed": false
   }
  },
  {
   "cell_type": "markdown",
   "source": [
    "taking a peek on it"
   ],
   "metadata": {
    "collapsed": false
   }
  },
  {
   "cell_type": "code",
   "execution_count": null,
   "outputs": [],
   "source": [
    "print(data.head())\n",
    "print(data.dtypes)\n",
    "data.shape"
   ],
   "metadata": {
    "collapsed": false
   }
  },
  {
   "cell_type": "markdown",
   "source": [
    "deleting duplicates or data with missing values"
   ],
   "metadata": {
    "collapsed": false
   }
  },
  {
   "cell_type": "code",
   "execution_count": null,
   "outputs": [],
   "source": [
    "data=data.drop_duplicates().dropna()"
   ],
   "metadata": {
    "collapsed": false
   }
  },
  {
   "cell_type": "markdown",
   "source": [
    "figuring out if number of both values of response variable is equal"
   ],
   "metadata": {
    "collapsed": false
   }
  },
  {
   "cell_type": "code",
   "execution_count": null,
   "outputs": [],
   "source": [
    "num_st = data['loan_status'].value_counts()\n",
    "plt.pie(num_st)"
   ],
   "metadata": {
    "collapsed": false
   }
  },
  {
   "cell_type": "markdown",
   "source": [
    "changing type to boolean for two variables"
   ],
   "metadata": {
    "collapsed": false
   }
  },
  {
   "cell_type": "code",
   "execution_count": null,
   "outputs": [],
   "source": [
    "mapping = {\"Y\": True, \"N\": False}\n",
    "data['cb_person_default_on_file']=data['cb_person_default_on_file'].replace(mapping).astype('bool')\n",
    "mapping1 = {\"1\": True, \"0\": False}\n",
    "data['loan_status'] = data['loan_status'].replace(mapping1).astype('bool')"
   ],
   "metadata": {
    "collapsed": false
   }
  },
  {
   "cell_type": "markdown",
   "source": [
    "dropping negative values(they are not expected due to the nature of the dataset"
   ],
   "metadata": {
    "collapsed": false
   }
  },
  {
   "cell_type": "code",
   "execution_count": null,
   "outputs": [],
   "source": [
    "data_numerical = data.select_dtypes(include=['int','float'])\n",
    "data_non_numerical = data.select_dtypes(exclude=['int', 'float'])\n",
    "negative_mask = data_numerical < 0\n",
    "data_numerical = data_numerical[~negative_mask]\n",
    "data = data_numerical.join(data_non_numerical)"
   ],
   "metadata": {
    "collapsed": false
   }
  },
  {
   "cell_type": "code",
   "execution_count": null,
   "outputs": [],
   "source": [
    "data.dtypes"
   ],
   "metadata": {
    "collapsed": false
   }
  },
  {
   "cell_type": "code",
   "execution_count": null,
   "outputs": [],
   "source": [
    "print(data_numerical.columns)\n",
    "print(data.columns)\n",
    "print(data_non_numerical.columns)"
   ],
   "metadata": {
    "collapsed": false
   }
  },
  {
   "cell_type": "markdown",
   "source": [
    "removing non-variant features"
   ],
   "metadata": {
    "collapsed": false
   }
  },
  {
   "cell_type": "code",
   "execution_count": null,
   "outputs": [],
   "source": [
    "selector = VarianceThreshold()\n",
    "selector.fit(data_numerical)\n",
    "mask = selector.get_support()\n",
    "data_numerical = data_numerical[data_numerical.columns[mask]]\n",
    "data = pd.concat([data_numerical, data_non_numerical], axis=1)"
   ],
   "metadata": {
    "collapsed": false
   }
  },
  {
   "cell_type": "markdown",
   "source": [
    "figuring out if there is dominantly correlated with variable variable(turns out there isn't)"
   ],
   "metadata": {
    "collapsed": false
   }
  },
  {
   "cell_type": "code",
   "execution_count": null,
   "outputs": [],
   "source": [
    "plt.figure(figsize = (14,14))\n",
    "plt.title('Credit Risk correlation plot (Pearson)')\n",
    "corr = data.corr()\n",
    "sns.heatmap(corr,xticklabels=corr.columns,yticklabels=corr.columns,linewidths=.1,cmap=\"Greens\")\n",
    "plt.show()"
   ],
   "metadata": {
    "collapsed": false
   }
  },
  {
   "cell_type": "markdown",
   "source": [
    "getting curtosis and skewness of uncleaned from outliers data(it's mostly close to being normal with some exceptions)"
   ],
   "metadata": {
    "collapsed": false
   }
  },
  {
   "cell_type": "code",
   "execution_count": null,
   "outputs": [],
   "source": [
    "numerical_columns = data.select_dtypes(include=['int', 'float','bool']).columns\n",
    "for col in numerical_columns:\n",
    "    print(f\"Column: {col}\")\n",
    "    print(f\"Kurtosis: {kurtosis(data[col])}\")\n",
    "    print(f\"Skewness: {skew(data[col])}\")"
   ],
   "metadata": {
    "collapsed": false
   }
  },
  {
   "cell_type": "markdown",
   "source": [
    "During the exploration of the data,was found out that the most suitable for being response variable would be loan_status\n",
    "Were noticed outliers in practically every numerical columns.Also,most of them are right-skewed,which possibly may mean that outliers tend to be bigger than the\n",
    "mean.Using boxplot has supported that hypothesis.There doesn't seem to be any dominate independent feature(in terms of correlation with response variable)and\n",
    "there are not any non-variate which would need to be removed.Now it is considerable to move into data cleaning(which I have already started by dropping empty values and duplicates(which was the more acceptable decision than imputation/prediction in my case)"
   ],
   "metadata": {
    "collapsed": false
   }
  },
  {
   "cell_type": "code",
   "execution_count": null,
   "outputs": [],
   "source": [
    "data.dtypes"
   ],
   "metadata": {
    "collapsed": false
   }
  },
  {
   "cell_type": "markdown",
   "source": [
    "defining function to remove outliers"
   ],
   "metadata": {
    "collapsed": false
   }
  },
  {
   "cell_type": "code",
   "execution_count": null,
   "outputs": [],
   "source": [
    "def remove_outliers_zscore(df, threshold):\n",
    "    df_numerical = df.select_dtypes(include=['int', 'float', 'bool'])\n",
    "    df_non_numerical = df.drop(df_numerical.columns, axis=1)\n",
    "    z_scores = abs(df_numerical - df_numerical.mean()) / abs(df_numerical.std())\n",
    "    df_numerical = df_numerical[(z_scores < threshold) & (z_scores > -threshold)]\n",
    "    df = pd.concat([df_numerical, df_non_numerical], axis=1)\n",
    "    return df"
   ],
   "metadata": {
    "collapsed": false
   }
  },
  {
   "cell_type": "markdown",
   "source": [
    "removing outliers"
   ],
   "metadata": {
    "collapsed": false
   }
  },
  {
   "cell_type": "code",
   "execution_count": null,
   "outputs": [],
   "source": [
    "data = remove_outliers_zscore(data,3)"
   ],
   "metadata": {
    "collapsed": false
   }
  },
  {
   "cell_type": "markdown",
   "source": [
    "getting kurtosis and skew for the cleaned data"
   ],
   "metadata": {
    "collapsed": false
   }
  },
  {
   "cell_type": "code",
   "execution_count": null,
   "outputs": [],
   "source": [
    "numerical_columns = data.select_dtypes(include=['int', 'float','bool']).columns\n",
    "for col in numerical_columns:\n",
    "    print(f\"Column: {col}\")\n",
    "    print(f\"Kurtosis: {kurtosis(data[col])}\")\n",
    "    print(f\"Skewness: {skew(data[col])}\")"
   ],
   "metadata": {
    "collapsed": false
   }
  },
  {
   "cell_type": "code",
   "execution_count": null,
   "outputs": [],
   "source": [
    "data.dtypes"
   ],
   "metadata": {
    "collapsed": false
   }
  },
  {
   "cell_type": "markdown",
   "source": [
    "scaling data"
   ],
   "metadata": {
    "collapsed": false
   }
  },
  {
   "cell_type": "code",
   "execution_count": null,
   "outputs": [],
   "source": [
    "def scale_data(df):\n",
    "    df_scaled = df.copy()\n",
    "    numerical_columns = df.select_dtypes(include=['int', 'float', 'bool']).columns\n",
    "    scaler = StandardScaler()\n",
    "    df_scaled[numerical_columns] = scaler.fit_transform(df[numerical_columns])\n",
    "    original_df_types = df.dtypes\n",
    "    df_scaled = df_scaled.astype(original_df_types)\n",
    "    return df_scaled"
   ],
   "metadata": {
    "collapsed": false
   }
  },
  {
   "cell_type": "code",
   "execution_count": null,
   "outputs": [],
   "source": [
    "scale_data(data)"
   ],
   "metadata": {
    "collapsed": false
   }
  },
  {
   "cell_type": "code",
   "execution_count": null,
   "outputs": [],
   "source": [
    "data.dtypes"
   ],
   "metadata": {
    "collapsed": false
   }
  },
  {
   "cell_type": "markdown",
   "source": [
    "getting current distributions of cleaned data"
   ],
   "metadata": {
    "collapsed": false
   }
  },
  {
   "cell_type": "code",
   "execution_count": null,
   "outputs": [],
   "source": [
    "plt.figure(figsize=(20,3))\n",
    "sns.boxplot(data=data)\n",
    "plt.show()"
   ],
   "metadata": {
    "collapsed": false
   }
  },
  {
   "cell_type": "code",
   "execution_count": null,
   "outputs": [],
   "source": [
    "print(data.shape)\n",
    "print(data.shape)\n",
    "print([data.describe(),data.describe()])"
   ],
   "metadata": {
    "collapsed": false
   }
  },
  {
   "cell_type": "markdown",
   "source": [
    "getting another look at distributions"
   ],
   "metadata": {
    "collapsed": false
   }
  },
  {
   "cell_type": "code",
   "execution_count": null,
   "outputs": [],
   "source": [
    "def histplot_every_column(data):\n",
    " for column in data.columns:\n",
    "    plt.figure()\n",
    "    plt.hist(data[column])\n",
    "    plt.axvline(data[column].mean(), color='r', linestyle='dashed', linewidth=2)\n",
    "    plt.axvline(data[column].median(), color='g', linestyle='dashed', linewidth=2)\n",
    "    plt.title(column + \" Histogram\")\n",
    "    plt.show()"
   ],
   "metadata": {
    "collapsed": false
   }
  },
  {
   "cell_type": "code",
   "execution_count": null,
   "outputs": [],
   "source": [
    "histplot_every_column(data=data)"
   ],
   "metadata": {
    "collapsed": false
   }
  },
  {
   "cell_type": "code",
   "execution_count": null,
   "outputs": [],
   "source": [
    "print(data.shape)"
   ],
   "metadata": {
    "collapsed": false
   }
  },
  {
   "cell_type": "markdown",
   "source": [
    "one-hot encoding dataset"
   ],
   "metadata": {
    "collapsed": false
   }
  },
  {
   "cell_type": "code",
   "execution_count": null,
   "outputs": [],
   "source": [
    "encoded_data = data.copy()\n",
    "object_columns = data.select_dtypes(include='object').columns\n",
    "encoded_data = pd.get_dummies(encoded_data, columns=object_columns, prefix=object_columns, prefix_sep='_')\n",
    "print(encoded_data)"
   ],
   "metadata": {
    "collapsed": false
   }
  },
  {
   "cell_type": "code",
   "execution_count": null,
   "outputs": [],
   "source": [
    "data = encoded_data"
   ],
   "metadata": {
    "collapsed": false
   }
  },
  {
   "cell_type": "code",
   "execution_count": null,
   "outputs": [],
   "source": [
    "def convert_uint8_to_boolean(data):\n",
    "    uint8_columns = data.select_dtypes(include='uint8').columns\n",
    "    def convert_uint8_to_boolean(x):\n",
    "        if x == 0:\n",
    "            return False\n",
    "        else:\n",
    "            return True\n",
    "    data[uint8_columns] = data[uint8_columns].applymap(convert_uint8_to_boolean)\n",
    "    data[uint8_columns] = data[uint8_columns].astype(bool)\n",
    "    return data\n",
    "data = convert_uint8_to_boolean(data)"
   ],
   "metadata": {
    "collapsed": false
   }
  },
  {
   "cell_type": "code",
   "execution_count": null,
   "outputs": [],
   "source": [
    "data.dtypes"
   ],
   "metadata": {
    "collapsed": false
   }
  },
  {
   "cell_type": "code",
   "execution_count": null,
   "outputs": [],
   "source": [
    "from sklearn.impute import SimpleImputer\n",
    "imputer = SimpleImputer(strategy='mean')\n",
    "imputer.fit(X_train)\n",
    "X_train = imputer.transform(X_train)\n",
    "X_test = imputer.transform(X_test)"
   ],
   "metadata": {
    "collapsed": false
   }
  },
  {
   "cell_type": "markdown",
   "source": [
    "creating,training,testing and evaluating model"
   ],
   "metadata": {
    "collapsed": false
   }
  },
  {
   "cell_type": "code",
   "execution_count": 80,
   "outputs": [
    {
     "name": "stdout",
     "output_type": "stream",
     "text": [
      "[[4190  251]\n",
      " [ 295  965]]\n",
      "0.7794830371567044\n"
     ]
    }
   ],
   "source": [
    "rf = RandomForestClassifier(n_estimators=19)\n",
    "rf.fit(X_train, y_train)\n",
    "y_pred_proba = rf.predict_proba(X_test)\n",
    "y_pred = (y_pred_proba[:, 1] >= 0.3).astype(int)\n",
    "cm = confusion_matrix(y_test, y_pred)\n",
    "print(cm)\n",
    "f1 = f1_score(y_test, y_pred)\n",
    "print(f1)"
   ],
   "metadata": {
    "collapsed": false
   }
  },
  {
   "cell_type": "code",
   "execution_count": 73,
   "outputs": [
    {
     "name": "stdout",
     "output_type": "stream",
     "text": [
      "[[4378   63]\n",
      " [1084  176]]\n",
      "0.23482321547698465\n"
     ]
    }
   ],
   "source": [
    "from sklearn.linear_model import LogisticRegression\n",
    "logreg = LogisticRegression()\n",
    "logreg.fit(X_train, y_train)\n",
    "y_pred = logreg.predict(X_test)\n",
    "cm = confusion_matrix(y_test, y_pred)\n",
    "print(cm)\n",
    "f1 = f1_score(y_test, y_pred)\n",
    "print(f1)"
   ],
   "metadata": {
    "collapsed": false
   }
  },
  {
   "cell_type": "code",
   "execution_count": null,
   "outputs": [],
   "source": [
    "git config"
   ],
   "metadata": {
    "collapsed": false
   }
  }
 ],
 "metadata": {
  "kernelspec": {
   "display_name": "Python 3",
   "language": "python",
   "name": "python3"
  },
  "language_info": {
   "codemirror_mode": {
    "name": "ipython",
    "version": 2
   },
   "file_extension": ".py",
   "mimetype": "text/x-python",
   "name": "python",
   "nbconvert_exporter": "python",
   "pygments_lexer": "ipython2",
   "version": "2.7.6"
  }
 },
 "nbformat": 4,
 "nbformat_minor": 0
}
